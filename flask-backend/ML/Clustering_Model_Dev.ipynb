{
  "nbformat": 4,
  "nbformat_minor": 0,
  "metadata": {
    "colab": {
      "name": "Clustering_Model_Dev.ipynb",
      "provenance": []
    },
    "kernelspec": {
      "name": "python3",
      "display_name": "Python 3"
    }
  },
  "cells": [
    {
      "cell_type": "markdown",
      "metadata": {
        "id": "i_paGd_yLbgH"
      },
      "source": [
        "# K-Means Clustering"
      ]
    },
    {
      "cell_type": "markdown",
      "metadata": {
        "id": "nAuqPwTnLipr"
      },
      "source": [
        "## Importing the libraries"
      ]
    },
    {
      "cell_type": "code",
      "metadata": {
        "id": "yUXGcC4KLmcL"
      },
      "source": [
        "import numpy as np\n",
        "import matplotlib.pyplot as plt\n",
        "import pandas as pd"
      ],
      "execution_count": 1,
      "outputs": []
    },
    {
      "cell_type": "markdown",
      "metadata": {
        "id": "5LciKOr8Lo5O"
      },
      "source": [
        "## Importing the dataset"
      ]
    },
    {
      "cell_type": "code",
      "metadata": {
        "id": "9RlmPzZGLtGi",
        "colab": {
          "base_uri": "https://localhost:8080/",
          "height": 959
        },
        "outputId": "735a442e-d40d-42e8-bcfc-51a74581a11a"
      },
      "source": [
        "dataset = pd.read_csv('test.csv')\n",
        "dataset"
      ],
      "execution_count": 2,
      "outputs": [
        {
          "output_type": "execute_result",
          "data": {
            "text/plain": [
              "   Month         Fellow Name      Center Name  \\\n",
              "0  April        Priyanka, Na        GPS Palra   \n",
              "1  April         Pooja, Rani  GGPS Badshahpur   \n",
              "2  April       Neetu, Gautam  GGPS Badshahpur   \n",
              "3  April         Kirti, Devi  GGPS Badshahpur   \n",
              "4  April      Priyanka, Azad        GPS Sohna   \n",
              "5  April        Sapna, Sapna  GGPS Badshahpur   \n",
              "6  April  Suresh kumari, Mrs   GGPS Sohna - 2   \n",
              "7  April       Amrita, Yadav     GPS Nayagaon   \n",
              "8  April      Kavita, Kumari   GGPS Sohna - 1   \n",
              "9  April   Rekha Rani, Rekha        GPS Palra   \n",
              "\n",
              "   Total Number OoSC and Out Of School Children Identified  \\\n",
              "0                                                 25         \n",
              "1                                                 25         \n",
              "2                                                 26         \n",
              "3                                                 26         \n",
              "4                                                 24         \n",
              "5                                                 25         \n",
              "6                                                 25         \n",
              "7                                                 25         \n",
              "8                                                 25         \n",
              "9                                                 25         \n",
              "\n",
              "   Total Number OoSC and Out Of Children Enrolled In Learning Center  \\\n",
              "0                                                 25                   \n",
              "1                                                 25                   \n",
              "2                                                 26                   \n",
              "3                                                 26                   \n",
              "4                                                 24                   \n",
              "5                                                 25                   \n",
              "6                                                 21                   \n",
              "7                                                 25                   \n",
              "8                                                 25                   \n",
              "9                                                 23                   \n",
              "\n",
              "   The Total Classes Conducted this month.  Hindi English    EVS   Math  ...  \\\n",
              "0                                      130     12       8      7     10  ...   \n",
              "1                                       57      8       8      9      9  ...   \n",
              "2                                       45     10      12     10     11  ...   \n",
              "3                                       64     16      16     16     16  ...   \n",
              "4                                       25      5       5      5      5  ...   \n",
              "5                                       25      2       2    1.3    1.3  ...   \n",
              "6                                       22  3 :45    3:45   3:45   3:45  ...   \n",
              "7                                       25      4       4      4      4  ...   \n",
              "8                                       23     13      15     17     16  ...   \n",
              "9                                       66  10:20   10:20  11:40  11:40  ...   \n",
              "\n",
              "   Number of training on classroom intervention, behaviour management cycle and culture & Values  \\\n",
              "0                                                  0                                               \n",
              "1                                                  2                                               \n",
              "2                                                  6                                               \n",
              "3                                                  8                                               \n",
              "4                                                  3                                               \n",
              "5                                                  2                                               \n",
              "6                                                  0                                               \n",
              "7                                                  2                                               \n",
              "8                                                  3                                               \n",
              "9                                                  0                                               \n",
              "\n",
              "   Number of community visits made to identify and understand local problems  \\\n",
              "0                                                  2                           \n",
              "1                                                  1                           \n",
              "2                                                  7                           \n",
              "3                                                  8                           \n",
              "4                                                  4                           \n",
              "5                                                  8                           \n",
              "6                                                 20                           \n",
              "7                                                  4                           \n",
              "8                                                  8                           \n",
              "9                                                  5                           \n",
              "\n",
              "   Number of Community event organised to mobilize stakeholders  \\\n",
              "0                                                  0              \n",
              "1                                                  2              \n",
              "2                                                  0              \n",
              "3                                                  0              \n",
              "4                                                  3              \n",
              "5                                                  0              \n",
              "6                                                  0              \n",
              "7                                                  2              \n",
              "8                                                  0              \n",
              "9                                                  0              \n",
              "\n",
              "   Number of parents attended workshops/training (PTM, SMC)  \\\n",
              "0                                                 18          \n",
              "1                                                  2          \n",
              "2                                                  2          \n",
              "3                                                  2          \n",
              "4                                                  1          \n",
              "5                                                  4          \n",
              "6                                                  0          \n",
              "7                                                  1          \n",
              "8                                                 20          \n",
              "9                                                 13          \n",
              "\n",
              "   Number of parents joined/participated in awareness drives and campaigns.  \\\n",
              "0                                                  0                          \n",
              "1                                                  1                          \n",
              "2                                                 22                          \n",
              "3                                                 18                          \n",
              "4                                                  5                          \n",
              "5                                                 15                          \n",
              "6                                                  0                          \n",
              "7                                                  4                          \n",
              "8                                                 20                          \n",
              "9                                                  0                          \n",
              "\n",
              "   Number of community members attended community events and program organized for mobilization  \\\n",
              "0                                                  0                                              \n",
              "1                                                  1                                              \n",
              "2                                                 18                                              \n",
              "3                                                 18                                              \n",
              "4                                                  5                                              \n",
              "5                                                 15                                              \n",
              "6                                                  0                                              \n",
              "7                                                  4                                              \n",
              "8                                                 18                                              \n",
              "9                                                  1                                              \n",
              "\n",
              "   Number of parents visited Anubhuti learning centers  \\\n",
              "0                                                 23     \n",
              "1                                                  6     \n",
              "2                                                 22     \n",
              "3                                                 20     \n",
              "4                                                  4     \n",
              "5                                                 20     \n",
              "6                                                  2     \n",
              "7                                                  5     \n",
              "8                                                 22     \n",
              "9                                                 14     \n",
              "\n",
              "   Number of parents had one on one conversations with fellows during the field visit.  \\\n",
              "0                                                 23                                     \n",
              "1                                                  3                                     \n",
              "2                                                 16                                     \n",
              "3                                                 15                                     \n",
              "4                                                  4                                     \n",
              "5                                                 10                                     \n",
              "6                                                  5                                     \n",
              "7                                                  4                                     \n",
              "8                                                 22                                     \n",
              "9                                                 14                                     \n",
              "\n",
              "   Thank You for Filling the Form - Please Rate you experience or day  \\\n",
              "0                                                  5                    \n",
              "1                                                  2                    \n",
              "2                                                  1                    \n",
              "3                                                  4                    \n",
              "4                                                  2                    \n",
              "5                                                  2                    \n",
              "6                                                  3                    \n",
              "7                                                  3                    \n",
              "8                                                  5                    \n",
              "9                                                  5                    \n",
              "\n",
              "                 Location  \n",
              "0  Gurugram - Sohna Block  \n",
              "1  Gurugram - Sohna Block  \n",
              "2  Gurugram - Sohna Block  \n",
              "3  Gurugram - Sohna Block  \n",
              "4  Gurugram - Sohna Block  \n",
              "5  Gurugram - Sohna Block  \n",
              "6  Gurugram - Sohna Block  \n",
              "7  Gurugram - Sohna Block  \n",
              "8  Gurugram - Sohna Block  \n",
              "9  Gurugram - Sohna Block  \n",
              "\n",
              "[10 rows x 23 columns]"
            ],
            "text/html": [
              "\n",
              "  <div id=\"df-e24e11a9-f526-4ad8-a449-0318d48db8e7\">\n",
              "    <div class=\"colab-df-container\">\n",
              "      <div>\n",
              "<style scoped>\n",
              "    .dataframe tbody tr th:only-of-type {\n",
              "        vertical-align: middle;\n",
              "    }\n",
              "\n",
              "    .dataframe tbody tr th {\n",
              "        vertical-align: top;\n",
              "    }\n",
              "\n",
              "    .dataframe thead th {\n",
              "        text-align: right;\n",
              "    }\n",
              "</style>\n",
              "<table border=\"1\" class=\"dataframe\">\n",
              "  <thead>\n",
              "    <tr style=\"text-align: right;\">\n",
              "      <th></th>\n",
              "      <th>Month</th>\n",
              "      <th>Fellow Name</th>\n",
              "      <th>Center Name</th>\n",
              "      <th>Total Number OoSC and Out Of School Children Identified</th>\n",
              "      <th>Total Number OoSC and Out Of Children Enrolled In Learning Center</th>\n",
              "      <th>The Total Classes Conducted this month.</th>\n",
              "      <th>Hindi</th>\n",
              "      <th>English</th>\n",
              "      <th>EVS</th>\n",
              "      <th>Math</th>\n",
              "      <th>...</th>\n",
              "      <th>Number of training on classroom intervention, behaviour management cycle and culture &amp; Values</th>\n",
              "      <th>Number of community visits made to identify and understand local problems</th>\n",
              "      <th>Number of Community event organised to mobilize stakeholders</th>\n",
              "      <th>Number of parents attended workshops/training (PTM, SMC)</th>\n",
              "      <th>Number of parents joined/participated in awareness drives and campaigns.</th>\n",
              "      <th>Number of community members attended community events and program organized for mobilization</th>\n",
              "      <th>Number of parents visited Anubhuti learning centers</th>\n",
              "      <th>Number of parents had one on one conversations with fellows during the field visit.</th>\n",
              "      <th>Thank You for Filling the Form - Please Rate you experience or day</th>\n",
              "      <th>Location</th>\n",
              "    </tr>\n",
              "  </thead>\n",
              "  <tbody>\n",
              "    <tr>\n",
              "      <th>0</th>\n",
              "      <td>April</td>\n",
              "      <td>Priyanka, Na</td>\n",
              "      <td>GPS Palra</td>\n",
              "      <td>25</td>\n",
              "      <td>25</td>\n",
              "      <td>130</td>\n",
              "      <td>12</td>\n",
              "      <td>8</td>\n",
              "      <td>7</td>\n",
              "      <td>10</td>\n",
              "      <td>...</td>\n",
              "      <td>0</td>\n",
              "      <td>2</td>\n",
              "      <td>0</td>\n",
              "      <td>18</td>\n",
              "      <td>0</td>\n",
              "      <td>0</td>\n",
              "      <td>23</td>\n",
              "      <td>23</td>\n",
              "      <td>5</td>\n",
              "      <td>Gurugram - Sohna Block</td>\n",
              "    </tr>\n",
              "    <tr>\n",
              "      <th>1</th>\n",
              "      <td>April</td>\n",
              "      <td>Pooja, Rani</td>\n",
              "      <td>GGPS Badshahpur</td>\n",
              "      <td>25</td>\n",
              "      <td>25</td>\n",
              "      <td>57</td>\n",
              "      <td>8</td>\n",
              "      <td>8</td>\n",
              "      <td>9</td>\n",
              "      <td>9</td>\n",
              "      <td>...</td>\n",
              "      <td>2</td>\n",
              "      <td>1</td>\n",
              "      <td>2</td>\n",
              "      <td>2</td>\n",
              "      <td>1</td>\n",
              "      <td>1</td>\n",
              "      <td>6</td>\n",
              "      <td>3</td>\n",
              "      <td>2</td>\n",
              "      <td>Gurugram - Sohna Block</td>\n",
              "    </tr>\n",
              "    <tr>\n",
              "      <th>2</th>\n",
              "      <td>April</td>\n",
              "      <td>Neetu, Gautam</td>\n",
              "      <td>GGPS Badshahpur</td>\n",
              "      <td>26</td>\n",
              "      <td>26</td>\n",
              "      <td>45</td>\n",
              "      <td>10</td>\n",
              "      <td>12</td>\n",
              "      <td>10</td>\n",
              "      <td>11</td>\n",
              "      <td>...</td>\n",
              "      <td>6</td>\n",
              "      <td>7</td>\n",
              "      <td>0</td>\n",
              "      <td>2</td>\n",
              "      <td>22</td>\n",
              "      <td>18</td>\n",
              "      <td>22</td>\n",
              "      <td>16</td>\n",
              "      <td>1</td>\n",
              "      <td>Gurugram - Sohna Block</td>\n",
              "    </tr>\n",
              "    <tr>\n",
              "      <th>3</th>\n",
              "      <td>April</td>\n",
              "      <td>Kirti, Devi</td>\n",
              "      <td>GGPS Badshahpur</td>\n",
              "      <td>26</td>\n",
              "      <td>26</td>\n",
              "      <td>64</td>\n",
              "      <td>16</td>\n",
              "      <td>16</td>\n",
              "      <td>16</td>\n",
              "      <td>16</td>\n",
              "      <td>...</td>\n",
              "      <td>8</td>\n",
              "      <td>8</td>\n",
              "      <td>0</td>\n",
              "      <td>2</td>\n",
              "      <td>18</td>\n",
              "      <td>18</td>\n",
              "      <td>20</td>\n",
              "      <td>15</td>\n",
              "      <td>4</td>\n",
              "      <td>Gurugram - Sohna Block</td>\n",
              "    </tr>\n",
              "    <tr>\n",
              "      <th>4</th>\n",
              "      <td>April</td>\n",
              "      <td>Priyanka, Azad</td>\n",
              "      <td>GPS Sohna</td>\n",
              "      <td>24</td>\n",
              "      <td>24</td>\n",
              "      <td>25</td>\n",
              "      <td>5</td>\n",
              "      <td>5</td>\n",
              "      <td>5</td>\n",
              "      <td>5</td>\n",
              "      <td>...</td>\n",
              "      <td>3</td>\n",
              "      <td>4</td>\n",
              "      <td>3</td>\n",
              "      <td>1</td>\n",
              "      <td>5</td>\n",
              "      <td>5</td>\n",
              "      <td>4</td>\n",
              "      <td>4</td>\n",
              "      <td>2</td>\n",
              "      <td>Gurugram - Sohna Block</td>\n",
              "    </tr>\n",
              "    <tr>\n",
              "      <th>5</th>\n",
              "      <td>April</td>\n",
              "      <td>Sapna, Sapna</td>\n",
              "      <td>GGPS Badshahpur</td>\n",
              "      <td>25</td>\n",
              "      <td>25</td>\n",
              "      <td>25</td>\n",
              "      <td>2</td>\n",
              "      <td>2</td>\n",
              "      <td>1.3</td>\n",
              "      <td>1.3</td>\n",
              "      <td>...</td>\n",
              "      <td>2</td>\n",
              "      <td>8</td>\n",
              "      <td>0</td>\n",
              "      <td>4</td>\n",
              "      <td>15</td>\n",
              "      <td>15</td>\n",
              "      <td>20</td>\n",
              "      <td>10</td>\n",
              "      <td>2</td>\n",
              "      <td>Gurugram - Sohna Block</td>\n",
              "    </tr>\n",
              "    <tr>\n",
              "      <th>6</th>\n",
              "      <td>April</td>\n",
              "      <td>Suresh kumari, Mrs</td>\n",
              "      <td>GGPS Sohna - 2</td>\n",
              "      <td>25</td>\n",
              "      <td>21</td>\n",
              "      <td>22</td>\n",
              "      <td>3 :45</td>\n",
              "      <td>3:45</td>\n",
              "      <td>3:45</td>\n",
              "      <td>3:45</td>\n",
              "      <td>...</td>\n",
              "      <td>0</td>\n",
              "      <td>20</td>\n",
              "      <td>0</td>\n",
              "      <td>0</td>\n",
              "      <td>0</td>\n",
              "      <td>0</td>\n",
              "      <td>2</td>\n",
              "      <td>5</td>\n",
              "      <td>3</td>\n",
              "      <td>Gurugram - Sohna Block</td>\n",
              "    </tr>\n",
              "    <tr>\n",
              "      <th>7</th>\n",
              "      <td>April</td>\n",
              "      <td>Amrita, Yadav</td>\n",
              "      <td>GPS Nayagaon</td>\n",
              "      <td>25</td>\n",
              "      <td>25</td>\n",
              "      <td>25</td>\n",
              "      <td>4</td>\n",
              "      <td>4</td>\n",
              "      <td>4</td>\n",
              "      <td>4</td>\n",
              "      <td>...</td>\n",
              "      <td>2</td>\n",
              "      <td>4</td>\n",
              "      <td>2</td>\n",
              "      <td>1</td>\n",
              "      <td>4</td>\n",
              "      <td>4</td>\n",
              "      <td>5</td>\n",
              "      <td>4</td>\n",
              "      <td>3</td>\n",
              "      <td>Gurugram - Sohna Block</td>\n",
              "    </tr>\n",
              "    <tr>\n",
              "      <th>8</th>\n",
              "      <td>April</td>\n",
              "      <td>Kavita, Kumari</td>\n",
              "      <td>GGPS Sohna - 1</td>\n",
              "      <td>25</td>\n",
              "      <td>25</td>\n",
              "      <td>23</td>\n",
              "      <td>13</td>\n",
              "      <td>15</td>\n",
              "      <td>17</td>\n",
              "      <td>16</td>\n",
              "      <td>...</td>\n",
              "      <td>3</td>\n",
              "      <td>8</td>\n",
              "      <td>0</td>\n",
              "      <td>20</td>\n",
              "      <td>20</td>\n",
              "      <td>18</td>\n",
              "      <td>22</td>\n",
              "      <td>22</td>\n",
              "      <td>5</td>\n",
              "      <td>Gurugram - Sohna Block</td>\n",
              "    </tr>\n",
              "    <tr>\n",
              "      <th>9</th>\n",
              "      <td>April</td>\n",
              "      <td>Rekha Rani, Rekha</td>\n",
              "      <td>GPS Palra</td>\n",
              "      <td>25</td>\n",
              "      <td>23</td>\n",
              "      <td>66</td>\n",
              "      <td>10:20</td>\n",
              "      <td>10:20</td>\n",
              "      <td>11:40</td>\n",
              "      <td>11:40</td>\n",
              "      <td>...</td>\n",
              "      <td>0</td>\n",
              "      <td>5</td>\n",
              "      <td>0</td>\n",
              "      <td>13</td>\n",
              "      <td>0</td>\n",
              "      <td>1</td>\n",
              "      <td>14</td>\n",
              "      <td>14</td>\n",
              "      <td>5</td>\n",
              "      <td>Gurugram - Sohna Block</td>\n",
              "    </tr>\n",
              "  </tbody>\n",
              "</table>\n",
              "<p>10 rows × 23 columns</p>\n",
              "</div>\n",
              "      <button class=\"colab-df-convert\" onclick=\"convertToInteractive('df-e24e11a9-f526-4ad8-a449-0318d48db8e7')\"\n",
              "              title=\"Convert this dataframe to an interactive table.\"\n",
              "              style=\"display:none;\">\n",
              "        \n",
              "  <svg xmlns=\"http://www.w3.org/2000/svg\" height=\"24px\"viewBox=\"0 0 24 24\"\n",
              "       width=\"24px\">\n",
              "    <path d=\"M0 0h24v24H0V0z\" fill=\"none\"/>\n",
              "    <path d=\"M18.56 5.44l.94 2.06.94-2.06 2.06-.94-2.06-.94-.94-2.06-.94 2.06-2.06.94zm-11 1L8.5 8.5l.94-2.06 2.06-.94-2.06-.94L8.5 2.5l-.94 2.06-2.06.94zm10 10l.94 2.06.94-2.06 2.06-.94-2.06-.94-.94-2.06-.94 2.06-2.06.94z\"/><path d=\"M17.41 7.96l-1.37-1.37c-.4-.4-.92-.59-1.43-.59-.52 0-1.04.2-1.43.59L10.3 9.45l-7.72 7.72c-.78.78-.78 2.05 0 2.83L4 21.41c.39.39.9.59 1.41.59.51 0 1.02-.2 1.41-.59l7.78-7.78 2.81-2.81c.8-.78.8-2.07 0-2.86zM5.41 20L4 18.59l7.72-7.72 1.47 1.35L5.41 20z\"/>\n",
              "  </svg>\n",
              "      </button>\n",
              "      \n",
              "  <style>\n",
              "    .colab-df-container {\n",
              "      display:flex;\n",
              "      flex-wrap:wrap;\n",
              "      gap: 12px;\n",
              "    }\n",
              "\n",
              "    .colab-df-convert {\n",
              "      background-color: #E8F0FE;\n",
              "      border: none;\n",
              "      border-radius: 50%;\n",
              "      cursor: pointer;\n",
              "      display: none;\n",
              "      fill: #1967D2;\n",
              "      height: 32px;\n",
              "      padding: 0 0 0 0;\n",
              "      width: 32px;\n",
              "    }\n",
              "\n",
              "    .colab-df-convert:hover {\n",
              "      background-color: #E2EBFA;\n",
              "      box-shadow: 0px 1px 2px rgba(60, 64, 67, 0.3), 0px 1px 3px 1px rgba(60, 64, 67, 0.15);\n",
              "      fill: #174EA6;\n",
              "    }\n",
              "\n",
              "    [theme=dark] .colab-df-convert {\n",
              "      background-color: #3B4455;\n",
              "      fill: #D2E3FC;\n",
              "    }\n",
              "\n",
              "    [theme=dark] .colab-df-convert:hover {\n",
              "      background-color: #434B5C;\n",
              "      box-shadow: 0px 1px 3px 1px rgba(0, 0, 0, 0.15);\n",
              "      filter: drop-shadow(0px 1px 2px rgba(0, 0, 0, 0.3));\n",
              "      fill: #FFFFFF;\n",
              "    }\n",
              "  </style>\n",
              "\n",
              "      <script>\n",
              "        const buttonEl =\n",
              "          document.querySelector('#df-e24e11a9-f526-4ad8-a449-0318d48db8e7 button.colab-df-convert');\n",
              "        buttonEl.style.display =\n",
              "          google.colab.kernel.accessAllowed ? 'block' : 'none';\n",
              "\n",
              "        async function convertToInteractive(key) {\n",
              "          const element = document.querySelector('#df-e24e11a9-f526-4ad8-a449-0318d48db8e7');\n",
              "          const dataTable =\n",
              "            await google.colab.kernel.invokeFunction('convertToInteractive',\n",
              "                                                     [key], {});\n",
              "          if (!dataTable) return;\n",
              "\n",
              "          const docLinkHtml = 'Like what you see? Visit the ' +\n",
              "            '<a target=\"_blank\" href=https://colab.research.google.com/notebooks/data_table.ipynb>data table notebook</a>'\n",
              "            + ' to learn more about interactive tables.';\n",
              "          element.innerHTML = '';\n",
              "          dataTable['output_type'] = 'display_data';\n",
              "          await google.colab.output.renderOutput(dataTable, element);\n",
              "          const docLink = document.createElement('div');\n",
              "          docLink.innerHTML = docLinkHtml;\n",
              "          element.appendChild(docLink);\n",
              "        }\n",
              "      </script>\n",
              "    </div>\n",
              "  </div>\n",
              "  "
            ]
          },
          "metadata": {},
          "execution_count": 2
        }
      ]
    },
    {
      "cell_type": "code",
      "source": [
        "X = dataset.iloc[:, [10,11]].values\n",
        "X"
      ],
      "metadata": {
        "colab": {
          "base_uri": "https://localhost:8080/"
        },
        "id": "sK7Ok_mdS_v4",
        "outputId": "c3ceca05-7d03-4457-f01b-f04e32b3d2c2"
      },
      "execution_count": 3,
      "outputs": [
        {
          "output_type": "execute_result",
          "data": {
            "text/plain": [
              "array([[23,  2],\n",
              "       [22,  4],\n",
              "       [26,  0],\n",
              "       [20,  8],\n",
              "       [88,  4],\n",
              "       [18,  8],\n",
              "       [14,  0],\n",
              "       [88,  4],\n",
              "       [22,  0],\n",
              "       [80,  2]])"
            ]
          },
          "metadata": {},
          "execution_count": 3
        }
      ]
    },
    {
      "cell_type": "markdown",
      "metadata": {
        "id": "nWC2EWp2Lx5G"
      },
      "source": [
        "## Using the elbow method to find the optimal number of clusters"
      ]
    },
    {
      "cell_type": "code",
      "metadata": {
        "id": "zWs6ciOoL1b3",
        "outputId": "3f5548f7-6d86-4731-c69e-4df2e3e3893d",
        "colab": {
          "base_uri": "https://localhost:8080/",
          "height": 350
        }
      },
      "source": [
        "from sklearn.cluster import KMeans\n",
        "wcss = []\n",
        "for i in range(1, 11):\n",
        "    kmeans = KMeans(n_clusters = i, init = 'k-means++', random_state = 42)\n",
        "    kmeans.fit(X)\n",
        "    wcss.append(kmeans.inertia_)\n",
        "plt.plot(range(1, 11), wcss)\n",
        "plt.title('The Elbow Method')\n",
        "plt.xlabel('Number of clusters')\n",
        "plt.ylabel('WCSS')\n",
        "plt.show()"
      ],
      "execution_count": 4,
      "outputs": [
        {
          "output_type": "stream",
          "name": "stderr",
          "text": [
            "/usr/local/lib/python3.7/dist-packages/ipykernel_launcher.py:5: ConvergenceWarning: Number of distinct clusters (9) found smaller than n_clusters (10). Possibly due to duplicate points in X.\n",
            "  \"\"\"\n"
          ]
        },
        {
          "output_type": "display_data",
          "data": {
            "text/plain": [
              "<Figure size 432x288 with 1 Axes>"
            ],
            "image/png": "[encoded data removed]"
          },
          "metadata": {
            "needs_background": "light"
          }
        }
      ]
    },
    {
      "cell_type": "markdown",
      "metadata": {
        "id": "VgT0mANLL4Nz"
      },
      "source": [
        "## Training the K-Means model on the dataset"
      ]
    },
    {
      "cell_type": "code",
      "metadata": {
        "id": "cjEfU6ZSMAPl"
      },
      "source": [
        "kmeans = KMeans(n_clusters = 2, init = 'k-means++', random_state = 42)"
      ],
      "execution_count": 5,
      "outputs": []
    },
    {
      "cell_type": "markdown",
      "source": [
        "## Saving the Model"
      ],
      "metadata": {
        "id": "gwg78qmxX_V_"
      }
    },
    {
      "cell_type": "code",
      "source": [
        "#Save the model.\n",
        "import pickle\n",
        "pickle.dump(kmeans, open(\"model.pkl\", \"wb\"))"
      ],
      "metadata": {
        "id": "FJj2g8PeYDjr"
      },
      "execution_count": 6,
      "outputs": []
    },
    {
      "cell_type": "markdown",
      "source": [
        "## Loading model\n"
      ],
      "metadata": {
        "id": "lg09NZzbY1Yq"
      }
    },
    {
      "cell_type": "code",
      "source": [
        "kmeans_model = pickle.load(open(\"model.pkl\", \"rb\"))"
      ],
      "metadata": {
        "id": "nw73ZsEgY413"
      },
      "execution_count": 7,
      "outputs": []
    },
    {
      "cell_type": "markdown",
      "metadata": {
        "id": "e7YrS1JAMFnm"
      },
      "source": [
        "## Visualising the clusters"
      ]
    },
    {
      "cell_type": "code",
      "metadata": {
        "id": "d0ZYecccMHNx",
        "outputId": "02c8bc25-2b99-4dc0-b107-a121bfc5e3dc",
        "colab": {
          "base_uri": "https://localhost:8080/",
          "height": 295
        }
      },
      "source": [
        "y_kmeans = kmeans_model.fit_predict(X)\n",
        "\n",
        "plt.scatter(X[y_kmeans == 0, 0], X[y_kmeans == 0, 1], s = 100, c = 'red', label = 'Cluster 1')\n",
        "plt.scatter(X[y_kmeans == 1, 0], X[y_kmeans == 1, 1], s = 100, c = 'blue', label = 'Cluster 2')\n",
        "# plt.scatter(X[y_kmeans == 2, 0], X[y_kmeans == 2, 1], s = 100, c = 'green', label = 'Cluster 3')\n",
        "# plt.scatter(X[y_kmeans == 3, 0], X[y_kmeans == 3, 1], s = 100, c = 'cyan', label = 'Cluster 4')\n",
        "# plt.scatter(X[y_kmeans == 4, 0], X[y_kmeans == 4, 1], s = 100, c = 'magenta', label = 'Cluster 5')\n",
        "# plt.scatter(kmeans.cluster_centers_[:, 0], kmeans.cluster_centers_[:, 1], s = 300, c = 'yellow', label = 'Centroids')\n",
        "plt.title('Clusters of customers')\n",
        "plt.xlabel('Number of the Students attended classes regularly (More than 80% attendance)')\n",
        "plt.ylabel('Number of exposure visits/sessions done') \n",
        "plt.legend()\n",
        "plt.show()\n"
      ],
      "execution_count": 8,
      "outputs": [
        {
          "output_type": "display_data",
          "data": {
            "text/plain": [
              "<Figure size 432x288 with 1 Axes>"
            ],
            "image/png": "[encoded data removed]"
          },
          "metadata": {
            "needs_background": "light"
          }
        }
      ]
    },
    {
      "cell_type": "code",
      "source": [
        "c1 = [X[y_kmeans == 0, 0],X[y_kmeans == 0, 1]] # cluster 1 co-ordinates\n",
        "c2 = [X[y_kmeans == 1, 0],X[y_kmeans == 1, 1]] # cluster 2 co-ordinates"
      ],
      "metadata": {
        "id": "9EE1ViOfXT-7"
      },
      "execution_count": 9,
      "outputs": []
    },
    {
      "cell_type": "code",
      "source": [
        "c1"
      ],
      "metadata": {
        "colab": {
          "base_uri": "https://localhost:8080/"
        },
        "id": "PdgPCYM1ZMA9",
        "outputId": "a36eebf9-b94b-4c25-9a3a-cd1d38c2b450"
      },
      "execution_count": 10,
      "outputs": [
        {
          "output_type": "execute_result",
          "data": {
            "text/plain": [
              "[array([23, 22, 26, 20, 18, 14, 22]), array([2, 4, 0, 8, 8, 0, 0])]"
            ]
          },
          "metadata": {},
          "execution_count": 10
        }
      ]
    },
    {
      "cell_type": "code",
      "source": [
        "c2"
      ],
      "metadata": {
        "colab": {
          "base_uri": "https://localhost:8080/"
        },
        "id": "6vBBAWO7ZMyS",
        "outputId": "0cc81276-7048-4fe4-fc7e-f70c65fbbdf7"
      },
      "execution_count": 11,
      "outputs": [
        {
          "output_type": "execute_result",
          "data": {
            "text/plain": [
              "[array([88, 88, 80]), array([4, 4, 2])]"
            ]
          },
          "metadata": {},
          "execution_count": 11
        }
      ]
    }
  ]
}